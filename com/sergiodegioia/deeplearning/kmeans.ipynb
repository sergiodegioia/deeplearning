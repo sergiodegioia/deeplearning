{
  "nbformat": 4,
  "nbformat_minor": 0,
  "metadata": {
    "colab": {
      "name": "Untitled6.ipynb",
      "version": "0.3.2",
      "provenance": [],
      "include_colab_link": true
    },
    "kernelspec": {
      "name": "python3",
      "display_name": "Python 3"
    }
  },
  "cells": [
    {
      "cell_type": "markdown",
      "metadata": {
        "id": "view-in-github",
        "colab_type": "text"
      },
      "source": [
        "<a href=\"https://colab.research.google.com/github/sergiodegioia/deeplearning/blob/master/com/sergiodegioia/deeplearning/kmeans.ipynb\" target=\"_parent\"><img src=\"https://colab.research.google.com/assets/colab-badge.svg\" alt=\"Open In Colab\"/></a>"
      ]
    },
    {
      "metadata": {
        "id": "c4AX1Q5-7KOD",
        "colab_type": "code",
        "colab": {
          "base_uri": "https://localhost:8080/",
          "height": 351
        },
        "outputId": "c276de63-334b-4dbc-f125-d5109cf0879d"
      },
      "cell_type": "code",
      "source": [
        "# -*- coding: utf-8 -*-\n",
        "\"\"\"\n",
        "Created on Wed Feb 20 11:50:53 2019\n",
        "\n",
        "@author: sdeg\n",
        "\"\"\"\n",
        "import numpy as np\n",
        "import matplotlib.pyplot as plt\n",
        "import matplotlib.collections as collections\n",
        "import matplotlib.animation as animation\n",
        "import matplotlib.lines as ln\n",
        "import time\n",
        "\n",
        "class KMeans:\n",
        "    def __init__( self):\n",
        "        self.iteration = 0\n",
        "        self.assign_phase = True\n",
        "        #assing phase, that is \"clustering\"\n",
        "        self.observations = np.random.rand( 100, 2)\n",
        "        self.centroids = np.random.rand( 4, 2)\n",
        "        self.centroids = np.array( [[.1, .1], [.1, .9], [.9, .1], [.9, .9]])\n",
        "        fig, ax = plt.subplots()\n",
        "        #l, = plt.plot( [], [], 'r-')\n",
        "        plt.xlim( 0, 1)\n",
        "        plt.ylim( 0, 1)\n",
        "        #[ plt.plot( *obs, marker='x') for obs in self.centroids]\n",
        "        [ plt.plot( *obs, 'bo') for obs in self.observations]\n",
        "        la = animation.FuncAnimation( fig, self.update_line, 10, fargs=(ax,), init_func = self.initfunc, interval = 2000, blit=True)\n",
        "        plt.show()\n",
        "    \n",
        "    def initfunc( self):\n",
        "        return []\n",
        "\n",
        "    def update_line( self, num, axes):\n",
        "        print( \"assign_phase {}\".format( self.assign_phase))\n",
        "        #print(\"update_line {}\".format( num))\n",
        "        data = self.next_data()\n",
        "        lns = []\n",
        "        for i in range( len( data)):\n",
        "            end_set_pair = np.array( data[ i])\n",
        "            line_set = np.zeros( end_set_pair.shape[1::-1] + (2,))\n",
        "            line_set[ :, :, 0] = end_set_pair[ :, :, 0].T\n",
        "            line_set[ :, :, 1] = end_set_pair[ :, :, 1].T\n",
        "            labels = np.random.randint(0,3, size = len( data[ i]))\n",
        "            coll = collections.LineCollection( line_set)\n",
        "            axes.add_collection( coll)\n",
        "            lns.append( coll)\n",
        "        return lns\n",
        "\n",
        "    def next_data( self):\n",
        "        if self.assign_phase == True:\n",
        "            #print(\"assign\")\n",
        "            self.assign_phase = False\n",
        "            return self.assign()\n",
        "        else:\n",
        "            #print(\"minimize\")\n",
        "            self.assign_phase = True\n",
        "            return self.minimize()\n",
        "    \n",
        "    def assign( self):\n",
        "        self.clusters = [ [] for i in range( len( self.centroids))]\n",
        "        for next in self.observations:\n",
        "            self.clusters[ nearest_point( next, self.centroids)].append( next)\n",
        "        return [ [ [self.centroids[ i]]*len(self.clusters[ i]), self.clusters[ i]] for i in range( len( self.centroids)) if len( self.clusters[ i]) != 0]\n",
        "\n",
        "\n",
        "    def minimize( self):\n",
        "        #minimize phase, that is \"centroids relaxation\"\n",
        "        i = 0\n",
        "        for next in self.centroids:\n",
        "            if len( self.clusters[ i]) != 0:\n",
        "                self.centroids[ i] = barycenter( self.clusters[ i])\n",
        "            i += 1\n",
        "        return [ [ [self.centroids[ i]]*len(self.clusters[ i]), self.clusters[ i]] for i in range( len( self.centroids)) if len( self.clusters[ i]) != 0]\n",
        "    \n",
        "\n",
        "def main():\n",
        "    KMeans()\n",
        "\n",
        "def barycenter( points):\n",
        "    if len( points) == 0:\n",
        "        return points\n",
        "    return sum( points)/len( points)\n",
        "\n",
        "def star( center, points):\n",
        "    \"\"\"family of intersecting straight lines from 'center' to all points in 'points' on the real plane.\n",
        "    Points are represented as arrays of 2D coordinates.\n",
        "    \n",
        "    Keyword arguments:\n",
        "        \n",
        "    ax -- matplotlib.pyplot.axis on which lines are plotter.\n",
        "    center -- point of intersection of the straight lines.\n",
        "    points -- must be a non-empty array of points. They are the endpoints of the straight lines.\n",
        "    \"\"\"\n",
        "    n = len( points)\n",
        "    if n == 0:\n",
        "        return [[], []]\n",
        "    return [[[center[ 0]]*n, np.array( points)[ :, 0]], [[center[ 1]]*n, np.array( points)[ :, 1]]]\n",
        "\n",
        "def nearest_point( ref, points):\n",
        "    \"\"\"get the position in 'points' of the point nearest to 'ref', in terms of Euclidean distance.\n",
        "    Points are represented as arrays of coordinates.\n",
        "    \n",
        "    Keyword arguments:\n",
        "        \n",
        "    ref -- must be a point.\n",
        "    points -- must be a non-empty array of points.\n",
        "    \"\"\"\n",
        "    min_dist = np.infty\n",
        "    i = 0\n",
        "    for point in points:\n",
        "        dist = np.sqrt( sum( (point - ref) ** 2))\n",
        "        if dist < min_dist:\n",
        "            min_dist = dist\n",
        "            ret = i\n",
        "        i = i + 1\n",
        "    return ret\n",
        "\n",
        "if __name__ == \"__main__\":\n",
        "    main()\n"
      ],
      "execution_count": 1,
      "outputs": [
        {
          "output_type": "display_data",
          "data": {
            "image/png": "[encoded data removed]",
            "text/plain": [
              "<Figure size 576x396 with 1 Axes>"
            ]
          },
          "metadata": {
            "tags": []
          }
        }
      ]
    }
  ]
}